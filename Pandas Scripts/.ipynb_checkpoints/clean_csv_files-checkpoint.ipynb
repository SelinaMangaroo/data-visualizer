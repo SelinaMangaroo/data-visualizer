{
 "cells": [
  {
   "cell_type": "code",
   "execution_count": 1,
   "id": "09c476ee",
   "metadata": {},
   "outputs": [
    {
     "name": "stdout",
     "output_type": "stream",
     "text": [
      "<class 'pandas.core.frame.DataFrame'>\n",
      "Index: 14125 entries, Unknown to Wojahn, Linda\n",
      "Data columns (total 50 columns):\n",
      " #   Column     Non-Null Count  Dtype  \n",
      "---  ------     --------------  -----  \n",
      " 0   accdate    2092 non-null   object \n",
      " 1   accessno   14125 non-null  object \n",
      " 2   addname    2581 non-null   object \n",
      " 3   address1   3439 non-null   object \n",
      " 4   address12  1 non-null      object \n",
      " 5   address2   33 non-null     object \n",
      " 6   city       10718 non-null  object \n",
      " 7   city2      1 non-null      object \n",
      " 8   contact    869 non-null    object \n",
      " 9   country    149 non-null    object \n",
      " 10  credit     277 non-null    object \n",
      " 11  dataset    1 non-null      object \n",
      " 12  deacdate   2 non-null      object \n",
      " 13  dearname   3137 non-null   object \n",
      " 14  descrip    12139 non-null  object \n",
      " 15  dgname     3137 non-null   object \n",
      " 16  dgsentdat  5 non-null      object \n",
      " 17  doglegal   1 non-null      object \n",
      " 18  dogsent    14125 non-null  bool   \n",
      " 19  dogsigned  14125 non-null  bool   \n",
      " 20  email      254 non-null    object \n",
      " 21  faxno      1 non-null      object \n",
      " 22  idno       14125 non-null  int64  \n",
      " 23  idno2      14125 non-null  int64  \n",
      " 24  idno3      14125 non-null  int64  \n",
      " 25  idno4      14125 non-null  int64  \n",
      " 26  instruct   1 non-null      object \n",
      " 27  invndate   1428 non-null   object \n",
      " 28  notes      1290 non-null   object \n",
      " 29  phonecell  34 non-null     object \n",
      " 30  phoneh     3653 non-null   object \n",
      " 31  phonew     159 non-null    object \n",
      " 32  photodate  1409 non-null   object \n",
      " 33  price      14125 non-null  float64\n",
      " 34  recas      12087 non-null  object \n",
      " 35  recby      1300 non-null   object \n",
      " 36  recdate    12278 non-null  object \n",
      " 37  recfrom    14116 non-null  object \n",
      " 38  recfrom2   1 non-null      object \n",
      " 39  recptno    14125 non-null  float64\n",
      " 40  restrict   4 non-null      object \n",
      " 41  state      8689 non-null   object \n",
      " 42  state2     1 non-null      object \n",
      " 43  tyldate    2 non-null      object \n",
      " 44  updated    8402 non-null   object \n",
      " 45  updatedby  8319 non-null   object \n",
      " 46  website    10 non-null     object \n",
      " 47  zip        2749 non-null   object \n",
      " 48  zip2       1 non-null      float64\n",
      " 49  ppid       14125 non-null  object \n",
      "dtypes: bool(2), float64(3), int64(4), object(41)\n",
      "memory usage: 5.3+ MB\n",
      "None\n"
     ]
    }
   ],
   "source": [
    "import pandas as pd\n",
    "import matplotlib.pyplot as plt\n",
    "\n",
    "path = \"/Users/selinamangaroo/Desktop/Pandas Scripts/Roseau_PPaccession_pre_processed.csv\"\n",
    "df = pd.read_csv(path, index_col=0)\n",
    "\n",
    "print(df.info()) "
   ]
  },
  {
   "cell_type": "code",
   "execution_count": null,
   "id": "8ab0b5c7-978d-47e9-8ae0-007058a422b2",
   "metadata": {},
   "outputs": [],
   "source": [
    "# remove cols with all values of 0\n",
    "# df = df.loc[:, df.any(axis=0)]\n",
    "\n",
    "#remove all empty cols\n",
    "df = df.dropna(axis=1, how='all')\n",
    "\n",
    "#remove cols with less than 100 values\n",
    "# for col in df.columns:\n",
    "#     if df[col].count() < 100:\n",
    "# #         print(col + \" removed\")\n",
    "#         df.drop([col], axis=1, inplace=True)\n",
    "\n",
    "#drop these cols\n",
    "# df.drop(['circum', \"circumft\", 'circumin'], axis = 1, inplace = True)"
   ]
  },
  {
   "cell_type": "code",
   "execution_count": 2,
   "id": "3ef3898a",
   "metadata": {
    "scrolled": true
   },
   "outputs": [],
   "source": [
    "#Fill NA/NaN values with 0\n",
    "\n",
    "df = df.fillna(0)"
   ]
  },
  {
   "cell_type": "code",
   "execution_count": 3,
   "id": "2518c511",
   "metadata": {},
   "outputs": [
    {
     "name": "stdout",
     "output_type": "stream",
     "text": [
      "<class 'pandas.core.frame.DataFrame'>\n",
      "Index: 14125 entries, Unknown to Wojahn, Linda\n",
      "Data columns (total 44 columns):\n",
      " #   Column     Non-Null Count  Dtype  \n",
      "---  ------     --------------  -----  \n",
      " 0   accdate    14125 non-null  object \n",
      " 1   accessno   14125 non-null  object \n",
      " 2   addname    14125 non-null  object \n",
      " 3   address1   14125 non-null  object \n",
      " 4   address12  14125 non-null  object \n",
      " 5   address2   14125 non-null  object \n",
      " 6   city       14125 non-null  object \n",
      " 7   city2      14125 non-null  object \n",
      " 8   contact    14125 non-null  object \n",
      " 9   country    14125 non-null  object \n",
      " 10  credit     14125 non-null  object \n",
      " 11  dataset    14125 non-null  object \n",
      " 12  deacdate   14125 non-null  object \n",
      " 13  dearname   14125 non-null  object \n",
      " 14  descrip    14125 non-null  object \n",
      " 15  dgname     14125 non-null  object \n",
      " 16  dgsentdat  14125 non-null  object \n",
      " 17  doglegal   14125 non-null  object \n",
      " 18  email      14125 non-null  object \n",
      " 19  faxno      14125 non-null  object \n",
      " 20  idno       14125 non-null  int64  \n",
      " 21  instruct   14125 non-null  object \n",
      " 22  invndate   14125 non-null  object \n",
      " 23  notes      14125 non-null  object \n",
      " 24  phonecell  14125 non-null  object \n",
      " 25  phoneh     14125 non-null  object \n",
      " 26  phonew     14125 non-null  object \n",
      " 27  photodate  14125 non-null  object \n",
      " 28  price      14125 non-null  float64\n",
      " 29  recas      14125 non-null  object \n",
      " 30  recby      14125 non-null  object \n",
      " 31  recdate    14125 non-null  object \n",
      " 32  recfrom    14125 non-null  object \n",
      " 33  recfrom2   14125 non-null  object \n",
      " 34  restrict   14125 non-null  object \n",
      " 35  state      14125 non-null  object \n",
      " 36  state2     14125 non-null  object \n",
      " 37  tyldate    14125 non-null  object \n",
      " 38  updated    14125 non-null  object \n",
      " 39  updatedby  14125 non-null  object \n",
      " 40  website    14125 non-null  object \n",
      " 41  zip        14125 non-null  object \n",
      " 42  zip2       14125 non-null  float64\n",
      " 43  ppid       14125 non-null  object \n",
      "dtypes: float64(2), int64(1), object(41)\n",
      "memory usage: 4.8+ MB\n",
      "None\n"
     ]
    }
   ],
   "source": [
    "# remove cols with value of 0\n",
    "\n",
    "# df = df.loc[:, (df != 0).any(axis=0)]\n",
    "df = df.loc[:, df.any(axis=0)]\n",
    "\n",
    "#remove all empty cols\n",
    "df = df.dropna(axis=1, how='all')\n",
    "\n",
    "print(df.info())"
   ]
  },
  {
   "cell_type": "code",
   "execution_count": 4,
   "id": "369e3902",
   "metadata": {},
   "outputs": [
    {
     "name": "stdout",
     "output_type": "stream",
     "text": [
      "Number of Rows:  14125\n",
      "Number of Columns:  44\n"
     ]
    }
   ],
   "source": [
    "# getting number of rows\n",
    "print(\"Number of Rows: \", len(df.axes[0]))\n",
    "  \n",
    "# getting number of columns\n",
    "print(\"Number of Columns: \", len(df.axes[1]))"
   ]
  },
  {
   "cell_type": "code",
   "execution_count": 28,
   "id": "69ccc1e3",
   "metadata": {
    "scrolled": true
   },
   "outputs": [],
   "source": [
    "# print(df[\"material\"])\n",
    "\n",
    "# df['material'].value_counts()\n",
    "\n",
    "# df.isnull().sum()"
   ]
  },
  {
   "cell_type": "code",
   "execution_count": null,
   "id": "92091971-a9a8-45d4-a012-b72373679139",
   "metadata": {},
   "outputs": [],
   "source": [
    "# Replace col values for material\n",
    "df.loc[(df.material == '3 - D'),'material'] = '3-D'\n",
    "df.loc[(df.material == '3 -D'),'material'] = '3-D'\n",
    "df.loc[(df.material == '3 D'),'material'] = '3-D'\n",
    "df.loc[(df.material == '3-'),'material'] = '3-D'\n",
    "df.loc[(df.material == '3- D'),'material'] = '3-D'\n",
    "df.loc[(df.material == \"3-D'\"),'material'] = '3-D'\n",
    "df.loc[(df.material == '3-D/3-D'),'material'] = '3-D'\n",
    "df.loc[(df.material == '3-D18801940'),'material'] = '3-D'\n",
    "df.loc[(df.material == '3-E'),'material'] = '3-D'\n",
    "df.loc[(df.material == '3D'),'material'] = '3-D'\n",
    "df.loc[(df.material == '3_D'),'material'] = '3-D'\n",
    "df.loc[(df.material == '3-d'),'material'] = '3-D'\n",
    "df.loc[(df.material == '3D/Canvas'),'material'] = '3-D/Canvas'\n",
    "\n",
    "\n",
    "df.loc[(df.material == 'Texile'),'material'] = 'Textile'\n",
    "df.loc[(df.material == 'Texitle'),'material'] = 'Textile'\n",
    "df.loc[(df.material == 'Texlile'),'material'] = 'Textile'\n",
    "df.loc[(df.material == 'Textiile'),'material'] = 'Textile'\n",
    "df.loc[(df.material == 'Textille'),'material'] = 'Textile'\n",
    "df.loc[(df.material == 'Textle'),'material'] = 'Textile'\n",
    "df.loc[(df.material == 'Textlie'),'material'] = 'Textile'\n",
    "df.loc[(df.material == 'Txtile'),'material'] = 'Textile'\n",
    "\n",
    "df.loc[(df.material == 'Hankerchief linen'),'material'] = 'Handkerchief Linen'\n"
   ]
  },
  {
   "cell_type": "code",
   "execution_count": 5,
   "id": "a5079f39",
   "metadata": {
    "scrolled": true
   },
   "outputs": [
    {
     "name": "stdout",
     "output_type": "stream",
     "text": [
      "accdate 14125\n",
      "accessno 14125\n",
      "addname 14125\n",
      "address1 14125\n",
      "address12 14125\n",
      "address2 14125\n",
      "city 14125\n",
      "city2 14125\n",
      "contact 14125\n",
      "country 14125\n",
      "credit 14125\n",
      "dataset 14125\n",
      "deacdate 14125\n",
      "dearname 14125\n",
      "descrip 14125\n",
      "dgname 14125\n",
      "dgsentdat 14125\n",
      "doglegal 14125\n",
      "email 14125\n",
      "faxno 14125\n",
      "idno 14125\n",
      "instruct 14125\n",
      "invndate 14125\n",
      "notes 14125\n",
      "phonecell 14125\n",
      "phoneh 14125\n",
      "phonew 14125\n",
      "photodate 14125\n",
      "price 14125\n",
      "recas 14125\n",
      "recby 14125\n",
      "recdate 14125\n",
      "recfrom 14125\n",
      "recfrom2 14125\n",
      "restrict 14125\n",
      "state 14125\n",
      "state2 14125\n",
      "tyldate 14125\n",
      "updated 14125\n",
      "updatedby 14125\n",
      "website 14125\n",
      "zip 14125\n",
      "zip2 14125\n",
      "ppid 14125\n"
     ]
    }
   ],
   "source": [
    "for col in df.columns:\n",
    "    print(col, df[col].count())"
   ]
  },
  {
   "cell_type": "code",
   "execution_count": 6,
   "id": "9de2d765",
   "metadata": {
    "scrolled": true
   },
   "outputs": [
    {
     "data": {
      "image/png": "[encoded data removed]",
      "text/plain": [
       "<Figure size 640x480 with 1 Axes>"
      ]
     },
     "metadata": {},
     "output_type": "display_data"
    },
    {
     "name": "stdout",
     "output_type": "stream",
     "text": [
      "idno int\n"
     ]
    },
    {
     "data": {
      "image/png": "[encoded data removed]",
      "text/plain": [
       "<Figure size 640x480 with 1 Axes>"
      ]
     },
     "metadata": {},
     "output_type": "display_data"
    },
    {
     "name": "stdout",
     "output_type": "stream",
     "text": [
      "price float\n"
     ]
    },
    {
     "data": {
      "image/png": "[encoded data removed]",
      "text/plain": [
       "<Figure size 640x480 with 1 Axes>"
      ]
     },
     "metadata": {},
     "output_type": "display_data"
    },
    {
     "name": "stdout",
     "output_type": "stream",
     "text": [
      "zip2 float\n"
     ]
    }
   ],
   "source": [
    "for col in df.columns[1:]:\n",
    "#     print(col)\n",
    "#     print(df[col].dtype)\n",
    "    if str(df[col].dtype) == \"int64\":\n",
    "#         df[col] = pd.to_numeric(df[col], errors='ignore')\n",
    "        df[col].plot(kind = 'hist')\n",
    "        plt.show()\n",
    "        print(col + \" \" + \"int\")\n",
    "        \n",
    "    if str(df[col].dtype) == \"float64\":\n",
    "#         df[col] = pd.to_numeric(df[col], errors='ignore')\n",
    "        df[col].plot(kind = 'hist')\n",
    "        plt.show()\n",
    "        print(col + \" \" + \"float\")\n"
   ]
  },
  {
   "cell_type": "code",
   "execution_count": 31,
   "id": "f4c95038",
   "metadata": {},
   "outputs": [],
   "source": [
    "# print(list(df[\"material\"].unique()))"
   ]
  },
  {
   "cell_type": "code",
   "execution_count": 32,
   "id": "548c0d74",
   "metadata": {},
   "outputs": [],
   "source": [
    "# df[\"material\"].plot(kind='bar', subplots=True)\n",
    "\n",
    "# s1 = pd.Series(df[\"material\"])\n",
    "# d = pd.DataFrame({'s1': s1})\n",
    "# d.apply(pd.value_counts).plot(kind='bar', subplots=True)\n"
   ]
  },
  {
   "cell_type": "code",
   "execution_count": 7,
   "id": "0a83d4d3",
   "metadata": {},
   "outputs": [],
   "source": [
    "df.to_csv('Roseau_PPaccession_processed.csv')"
   ]
  },
  {
   "cell_type": "code",
   "execution_count": null,
   "id": "1fa7b4f6",
   "metadata": {},
   "outputs": [],
   "source": []
  }
 ],
 "metadata": {
  "kernelspec": {
   "display_name": "Python 3 (ipykernel)",
   "language": "python",
   "name": "python3"
  },
  "language_info": {
   "codemirror_mode": {
    "name": "ipython",
    "version": 3
   },
   "file_extension": ".py",
   "mimetype": "text/x-python",
   "name": "python",
   "nbconvert_exporter": "python",
   "pygments_lexer": "ipython3",
   "version": "3.12.4"
  }
 },
 "nbformat": 4,
 "nbformat_minor": 5
}
